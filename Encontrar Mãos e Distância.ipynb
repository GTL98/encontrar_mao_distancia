{
 "cells": [
  {
   "cell_type": "code",
   "execution_count": 5,
   "metadata": {},
   "outputs": [],
   "source": [
    "# 1. Importar as bibliotecas\n",
    "import cv2\n",
    "from cvzone.HandTrackingModule import HandDetector\n",
    "\n",
    "# 2. Carregar o módulo de detecção\n",
    "detector = HandDetector(maxHands=2, detectionCon=0.8, minTrackCon=0.8)\n",
    "\n",
    "# 3. Caputra de vídeo\n",
    "cap = cv2.VideoCapture(0)\n",
    "\n",
    "while True:\n",
    "    # Detectar as mãos\n",
    "    sucesso, imagem = cap.read()\n",
    "    maos, imagem = detector.findHands(imagem)\n",
    "    \n",
    "    # Extrair as informações das mãos\n",
    "    if maos:\n",
    "        # Mão 1\n",
    "        mao_1 = maos[0]\n",
    "        lista_landmark_1 = mao_1['lmList']  # lista dos 21 landmarks\n",
    "        caixa_limite_1 = mao_1['bbox']  # informações de x, y, largura e altura da caixa delimitadora\n",
    "        ponto_central_1 = mao_1['center']  # fornece o cx e cy da mão, o meio da palma\n",
    "        tipo_mao_1 = mao_1['type']  # indica se é a mão esquerda ou direita\n",
    "        \n",
    "        # Detectar se os dedos estão para cima da mao_1\n",
    "        dedos_1 = detector.fingersUp(mao_1)\n",
    "        \n",
    "        # Mão 2\n",
    "        if len(maos) == 2:\n",
    "            mao_2 = maos[1]\n",
    "            lista_landmark_2 = mao_2['lmList']  # lista dos 21 landmarks\n",
    "            caixa_limite_2 = mao_2['bbox']  # informações de x, y, largura e altura da caixa delimitadora\n",
    "            ponto_central_2 = mao_2['center']  # fornece o cx e cy da mão, o meio da palma\n",
    "            tipo_mao_2 = mao_2['type']  # indica se é a mão esquerda ou direita\n",
    "            \n",
    "            # Detectar se os dedos estão para cima da mao_2\n",
    "            dedos_2 = detector.fingersUp(mao_2)\n",
    "            \n",
    "            # Encontrar a distância entre as mãos\n",
    "            comprimento, info, imagem = detector.findDistance(ponto_central_1, ponto_central_2, imagem)\n",
    "\n",
    "    # 3.3. Mostrar a imagem na tela\n",
    "    cv2.imshow('Imagem', imagem)\n",
    "\n",
    "    # 3.4. Terminar o loop\n",
    "    if cv2.waitKey(1) & 0xFF == ord('s'):\n",
    "        break\n",
    "\n",
    "# 4. Fechar a tela de captura\n",
    "cap.release()\n",
    "cv2.destroyAllWindows()"
   ]
  }
 ],
 "metadata": {
  "kernelspec": {
   "display_name": "Python 3",
   "language": "python",
   "name": "python3"
  },
  "language_info": {
   "codemirror_mode": {
    "name": "ipython",
    "version": 3
   },
   "file_extension": ".py",
   "mimetype": "text/x-python",
   "name": "python",
   "nbconvert_exporter": "python",
   "pygments_lexer": "ipython3",
   "version": "3.8.5"
  }
 },
 "nbformat": 4,
 "nbformat_minor": 4
}
